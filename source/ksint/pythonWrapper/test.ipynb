{
 "metadata": {
  "name": "",
  "signature": "sha256:e96541494ac4ad4985150799a72854ee9af2cd515721f096c615b4dd2d3a2235"
 },
 "nbformat": 3,
 "nbformat_minor": 0,
 "worksheets": [
  {
   "cells": [
    {
     "cell_type": "code",
     "collapsed": false,
     "input": [
      "#%load test.py"
     ],
     "language": "python",
     "metadata": {},
     "outputs": [],
     "prompt_number": 1
    },
    {
     "cell_type": "code",
     "collapsed": false,
     "input": [
      "from time import time\n",
      "from py_ks import *\n",
      "import numpy as np\n",
      "\n",
      "ks = pyKS(32, 0.1, 22);\n",
      "t_init = time();\n",
      "for i in range(1000) :\n",
      "    aa = ks.intg(np.ones(30)*0.1, 2000, 1);\n",
      "print time() - t_init;\n",
      "t_init = time();\n",
      "for i in range(100) :\n",
      "    aa, daa = ks.intgj(np.ones(30)*0.1, 2000, 1, 1);\n",
      "print time() - t_init;\n",
      "\n",
      "\n",
      "ks = pyKSM1(32, 0.1, 22);\n",
      "t_init = time();\n",
      "for i in range(1000) :\n",
      "    a0 = np.ones(30)*0.1; a0[1] = 0;\n",
      "    aa, tt = ks.intg(a0, 2000, 1);\n",
      "print time() - t_init;\n",
      "\n",
      "t_init = time();\n",
      "for i in range(10) :\n",
      "    a0 = np.ones(30)*0.1; a0[1] = 0;\n",
      "    aa, tt = ks.intg2(a0, 20, 1);\n",
      "print time() - t_init;\n",
      "\n",
      "\n"
     ],
     "language": "python",
     "metadata": {},
     "outputs": [
      {
       "output_type": "stream",
       "stream": "stdout",
       "text": [
        "2.67605900764\n",
        "8.71674203873"
       ]
      },
      {
       "output_type": "stream",
       "stream": "stdout",
       "text": [
        "\n",
        "3.37191510201"
       ]
      },
      {
       "output_type": "stream",
       "stream": "stdout",
       "text": [
        "\n",
        "0.017746925354\n"
       ]
      }
     ],
     "prompt_number": 2
    },
    {
     "cell_type": "code",
     "collapsed": false,
     "input": [],
     "language": "python",
     "metadata": {},
     "outputs": []
    }
   ],
   "metadata": {}
  }
 ]
}